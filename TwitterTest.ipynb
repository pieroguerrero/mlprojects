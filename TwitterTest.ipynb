{
 "cells": [
  {
   "cell_type": "code",
   "execution_count": 2,
   "metadata": {},
   "outputs": [],
   "source": [
    "import tweepy\n",
    "from textblob import TextBlob"
   ]
  },
  {
   "cell_type": "code",
   "execution_count": 3,
   "metadata": {},
   "outputs": [],
   "source": [
    "consumer_key='W3L5cH6tprA68SqtvzUrQBzmH'\n",
    "consumer_secret='YcvNxpJ6pty2wfAHxJj8DxRi12iPFTD7N3j9VvzpTOr290g57D'\n",
    "\n",
    "access_token='872984948654964736-owbj1Nof7P3WizauVD6DxvL5wyg8825'\n",
    "access_token_secret='EryuqQ3p1MQSGGYqoq5rtVYcAV7EigaaTM6AQaLTq3d46'"
   ]
  },
  {
   "cell_type": "code",
   "execution_count": 5,
   "metadata": {
    "collapsed": true
   },
   "outputs": [],
   "source": [
    "auth=tweepy.OAuthHandler(consumer_key,consumer_secret)\n",
    "auth.set_access_token(access_token,access_token_secret)"
   ]
  },
  {
   "cell_type": "code",
   "execution_count": 6,
   "metadata": {
    "collapsed": true
   },
   "outputs": [],
   "source": [
    "api=tweepy.API(auth)"
   ]
  },
  {
   "cell_type": "code",
   "execution_count": 10,
   "metadata": {},
   "outputs": [
    {
     "name": "stdout",
     "output_type": "stream",
     "text": [
      "Mallex Smith leading off for Tampa Bay on Friday https://t.co/ouqTqxi9OX\n",
      "Sentiment(polarity=0.0, subjectivity=0.0)\n",
      "Lucius Fox running up Tampa Bay Rays prospect rankings https://t.co/RHo82R9Le2 via @rayscologlasses https://t.co/YsWQzqXwJT\n",
      "Sentiment(polarity=0.0, subjectivity=0.0)\n",
      "Hear @chriskrimitsos talk about Building a Film Making Community in #Tampa at this year's #IgntieTPA https://t.co/3Jd4IoInJ3\n",
      "Sentiment(polarity=0.0, subjectivity=0.0)\n",
      "da 1 tenção q espera a pessoa bater dnv nos intervalo de silencio q nem o telefone da vontad de tampa os ouvido\n",
      "Sentiment(polarity=0.0, subjectivity=0.0)\n",
      "@katyperry I would be willing to fly from Tampa Fl to come see Katy in LA👁 #kpsweepstakes #KPWWW\n",
      "Sentiment(polarity=0.525, subjectivity=0.825)\n",
      "Let your taste buds tour the Tampa Bay Area with Tampa Bay Restaurant Week! A unique opportunity to take... https://t.co/ibiCPOID64\n",
      "Sentiment(polarity=0.375, subjectivity=1.0)\n",
      "#MLB #Athletics\n",
      "Josh Phegley will not be in the starting lineup for Friday's game vs Tampa Bay.\n",
      "@JoshPhegley\n",
      "Sentiment(polarity=-0.2, subjectivity=0.25)\n",
      "RT @KatieSutra: As promised! Never releasedB4 #TeamKatieSutra #FeatureShowgirl #NudeBeach #Candid #MissPoleChampUSA in #Tampa #Naked #BoatL…\n",
      "Sentiment(polarity=0.3, subjectivity=0.6000000000000001)\n",
      "#MLB #Athletics\n",
      "Trevor Plouffe will not be in the starting lineup for Friday's game vs Tampa Bay.\n",
      "@TPlouffe24\n",
      "Sentiment(polarity=-0.2, subjectivity=0.25)\n",
      "#MLB #Athletics\n",
      "Adam Rosales will not be in the starting lineup for Friday's game vs Tampa Bay.\n",
      "@arosie7\n",
      "Sentiment(polarity=-0.2, subjectivity=0.25)\n",
      "RT @Alex74Djukic: Fontana na Slaviji izašla u Tampa Bay Times-u na Floridi. https://t.co/xVGk5FG0Hh\n",
      "Sentiment(polarity=0.0, subjectivity=0.0)\n",
      "#MLB #Athletics\n",
      "Jaycob Brugman will start at LF and bat 9th vs Tampa Bay Rays on Friday.\n",
      "Sentiment(polarity=0.0, subjectivity=0.0)\n",
      "RT @Gdad1: 🆘VERY #URGENT Plz RT poor Lulu, Tampa. Poor girl's Euth listed@packed shelter.🆘 #adopt #rescue #foster #pledge\n",
      "https://t.co/CYfD…\n",
      "Sentiment(polarity=-0.4, subjectivity=0.6)\n",
      "RT @TBLightning: Dotchin holding strong on the blueline, high-scoring teams, &amp; Condra questionable for tonight.\n",
      "\n",
      "Game 4 goes at 7pm. https:…\n",
      "Sentiment(polarity=-0.15555555555555559, subjectivity=0.7111111111111111)\n",
      "RT @webit101: Medical Curtains in #Tampa - Hiles Curtains Specialties https://t.co/JQ0OW5F2Kd  #hospital #medical #clinic #privacy #TampaBa…\n",
      "Sentiment(polarity=0.0, subjectivity=0.0)\n"
     ]
    }
   ],
   "source": [
    "public_tweets=api.search('Tampa')\n",
    "\n",
    "for tweet in public_tweets:\n",
    "    print(tweet.text)\n",
    "    analysis=TextBlob(tweet.text)\n",
    "    print(analysis.sentiment)"
   ]
  },
  {
   "cell_type": "code",
   "execution_count": null,
   "metadata": {
    "collapsed": true
   },
   "outputs": [],
   "source": []
  }
 ],
 "metadata": {
  "kernelspec": {
   "display_name": "Python 3",
   "language": "python",
   "name": "python3"
  },
  "language_info": {
   "codemirror_mode": {
    "name": "ipython",
    "version": 3
   },
   "file_extension": ".py",
   "mimetype": "text/x-python",
   "name": "python",
   "nbconvert_exporter": "python",
   "pygments_lexer": "ipython3",
   "version": "3.5.2"
  }
 },
 "nbformat": 4,
 "nbformat_minor": 2
}
